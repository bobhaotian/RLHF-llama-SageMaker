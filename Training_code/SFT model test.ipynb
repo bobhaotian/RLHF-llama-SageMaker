{
 "cells": [
  {
   "cell_type": "code",
   "execution_count": 12,
   "id": "ef33ff61-5908-4a21-86e1-f83ca291c7f5",
   "metadata": {},
   "outputs": [
    {
     "name": "stdout",
     "output_type": "stream",
     "text": [
      "{'generated_text': ' The group is perfect if and only if every proper subgroup is a maximal subgroup. The group is also called a simple group. The group is perfect if and only if the derived subgroup is the whole group. The group is perfect if and only if the commutator subgroup is the whole group. The group is perfect if and only if the commutator subgroup is a simple group. The group is perfect if and only if the commutator subgroup is a perfect group. The group is perfect if and only if the commutator subgroup is a simple group. The group is perfect if and only if the commutator subgroup is a'}\n",
      "{'generated_text': '1) the laws of physics are the same for all non-accelerating observers and 2) the speed of light in a vacuum is the same for all observers, regardless of the motion of the light source. The first part of the theory is known as the principle of relativity, and the second part is known as the principle of the constancy of the speed of light. The theory of relativity is a theory of the structure of spacetime. It was originally proposed in two papers in 1905 by Albert Einstein, one on the special theory of relativity, and the other'}\n",
      "{'generated_text': ' wanted to say a big thank you to everyone who has been involved in the launch of the new website. It has been a long time coming and I am so pleased that it is finally here. I am sure that it will be a great success and I look forward to seeing it grow and develop over the coming months and'}\n",
      "{'generated_text': ' is a representation of a group G on a set X such that the action of G on X is transitive. In other words, for any two elements x,y in X, there exists a g in G such that g(x)=y. The following is a theorem that is very useful in determining whether a representation is a permutation representation.\\nTheorem: Let G be a group acting on a set X. Then the following are equivalent:\\n1. The action of G on X is transitive.\\n2. The stabilizer of any element in X is a conjugacy class of G.\\n3. The stabilizer of any element in X is a maximal subgroup of G.\\n4. The stabilizer of any element in X is a normal subgroup of G.\\n5. The action of G on X is a permutation representation.\\nProof: 1. implies 2. Let x be an element in X. Then for any y in X, there exists a g in G such that g(x)='}\n"
     ]
    }
   ],
   "source": [
    "from sagemaker.predictor import retrieve_default\n",
    "endpoint_name = \"\"\n",
    "predictor = retrieve_default(endpoint_name)\n",
    "payload = {\n",
    "    \"inputs\": \"Simply put, the definition of a perfect group.\",\n",
    "    \"parameters\": {\n",
    "        \"max_new_tokens\": 128,\n",
    "        \"top_p\": 0.9,\n",
    "        \"temperature\": 0.6\n",
    "    }\n",
    "}\n",
    "response = predictor.predict(payload)\n",
    "print(response)\n",
    "payload = {\n",
    "    \"inputs\": \"Simply put, the theory of relativity states that \",\n",
    "    \"parameters\": {\n",
    "        \"max_new_tokens\": 120,\n",
    "        \"top_p\": 0.9,\n",
    "        \"temperature\": 0.6\n",
    "    }\n",
    "}\n",
    "response = predictor.predict(payload)\n",
    "print(response)\n",
    "payload = {\n",
    "    \"inputs\": \"A brief message congratulating the team on the launch:\\n\\nHi everyone,\\n\\nI just \",\n",
    "    \"parameters\": {\n",
    "        \"max_new_tokens\": 64,\n",
    "        \"top_p\": 0.9,\n",
    "        \"temperature\": 0.6\n",
    "    }\n",
    "}\n",
    "response = predictor.predict(payload)\n",
    "print(response)\n",
    "payload = {\n",
    "    \"inputs\": \"Simply put, the definition of a permutation representation\",\n",
    "    \"parameters\": {\n",
    "        \"max_new_tokens\": 200,\n",
    "        \"top_p\": 0.9,\n",
    "        \"temperature\": 0.70\n",
    "    }\n",
    "}\n",
    "response = predictor.predict(payload)\n",
    "print(response)"
   ]
  },
  {
   "cell_type": "code",
   "execution_count": null,
   "id": "3184c0e2-f3e6-4d0f-b0a0-f89ceed9e362",
   "metadata": {},
   "outputs": [],
   "source": []
  }
 ],
 "metadata": {
  "kernelspec": {
   "display_name": "Python 3 (ipykernel)",
   "language": "python",
   "name": "python3"
  },
  "language_info": {
   "codemirror_mode": {
    "name": "ipython",
    "version": 3
   },
   "file_extension": ".py",
   "mimetype": "text/x-python",
   "name": "python",
   "nbconvert_exporter": "python",
   "pygments_lexer": "ipython3",
   "version": "3.11.9"
  }
 },
 "nbformat": 4,
 "nbformat_minor": 5
}
